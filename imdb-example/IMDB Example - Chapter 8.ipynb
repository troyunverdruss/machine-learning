{
 "cells": [
  {
   "cell_type": "code",
   "execution_count": 36,
   "metadata": {},
   "outputs": [
    {
     "name": "stdout",
     "output_type": "stream",
     "text": [
      "showing info https://raw.githubusercontent.com/nltk/nltk_data/gh-pages/index.xml\n",
      "Populating the interactive namespace from numpy and matplotlib\n"
     ]
    }
   ],
   "source": [
    "import pandas as pd\n",
    "from sklearn.feature_extraction.text import CountVectorizer\n",
    "from sklearn.feature_extraction.text import TfidfVectorizer\n",
    "from sklearn.naive_bayes import MultinomialNB\n",
    "from sklearn.metrics import accuracy_score, roc_auc_score, roc_curve\n",
    "import itertools\n",
    "from bs4 import BeautifulSoup\n",
    "import re\n",
    "from nltk.corpus import stopwords\n",
    "import logging\n",
    "\n",
    "import nltk.data\n",
    "nltk.download()\n",
    "\n",
    "%pylab inline\n",
    "\n",
    "path = '/Users/troy/code/machine-learning/imdb-example/data/'"
   ]
  },
  {
   "cell_type": "code",
   "execution_count": 2,
   "metadata": {
    "collapsed": true
   },
   "outputs": [],
   "source": [
    "data = pd.read_csv(path + 'labeledTrainData.tsv', delimiter='\\t')"
   ]
  },
  {
   "cell_type": "code",
   "execution_count": 3,
   "metadata": {
    "collapsed": true
   },
   "outputs": [],
   "source": [
    "split = 0.7\n",
    "d_train = data[:int(split * len(data))]\n",
    "d_test = data[int(split * len(data)):]"
   ]
  },
  {
   "cell_type": "code",
   "execution_count": 4,
   "metadata": {
    "collapsed": true
   },
   "outputs": [],
   "source": [
    "count_vectorizer = CountVectorizer()\n",
    "\n",
    "count_features = count_vectorizer.fit_transform(d_train.review)\n",
    "count_test_features = count_vectorizer.transform(d_test.review)"
   ]
  },
  {
   "cell_type": "code",
   "execution_count": 5,
   "metadata": {},
   "outputs": [
    {
     "data": {
      "text/html": [
       "<div>\n",
       "<style>\n",
       "    .dataframe thead tr:only-child th {\n",
       "        text-align: right;\n",
       "    }\n",
       "\n",
       "    .dataframe thead th {\n",
       "        text-align: left;\n",
       "    }\n",
       "\n",
       "    .dataframe tbody tr th {\n",
       "        vertical-align: top;\n",
       "    }\n",
       "</style>\n",
       "<table border=\"1\" class=\"dataframe\">\n",
       "  <thead>\n",
       "    <tr style=\"text-align: right;\">\n",
       "      <th></th>\n",
       "      <th>producer</th>\n",
       "      <th>producer9and</th>\n",
       "      <th>producers</th>\n",
       "      <th>produces</th>\n",
       "      <th>producing</th>\n",
       "      <th>product</th>\n",
       "      <th>production</th>\n",
       "      <th>productions</th>\n",
       "      <th>productive</th>\n",
       "      <th>productively</th>\n",
       "    </tr>\n",
       "  </thead>\n",
       "  <tbody>\n",
       "    <tr>\n",
       "      <th>0</th>\n",
       "      <td>0</td>\n",
       "      <td>0</td>\n",
       "      <td>0</td>\n",
       "      <td>0</td>\n",
       "      <td>0</td>\n",
       "      <td>0</td>\n",
       "      <td>0</td>\n",
       "      <td>0</td>\n",
       "      <td>0</td>\n",
       "      <td>0</td>\n",
       "    </tr>\n",
       "    <tr>\n",
       "      <th>1</th>\n",
       "      <td>0</td>\n",
       "      <td>0</td>\n",
       "      <td>0</td>\n",
       "      <td>0</td>\n",
       "      <td>0</td>\n",
       "      <td>0</td>\n",
       "      <td>0</td>\n",
       "      <td>0</td>\n",
       "      <td>0</td>\n",
       "      <td>0</td>\n",
       "    </tr>\n",
       "    <tr>\n",
       "      <th>2</th>\n",
       "      <td>0</td>\n",
       "      <td>0</td>\n",
       "      <td>0</td>\n",
       "      <td>0</td>\n",
       "      <td>0</td>\n",
       "      <td>0</td>\n",
       "      <td>0</td>\n",
       "      <td>0</td>\n",
       "      <td>0</td>\n",
       "      <td>0</td>\n",
       "    </tr>\n",
       "    <tr>\n",
       "      <th>3</th>\n",
       "      <td>0</td>\n",
       "      <td>0</td>\n",
       "      <td>0</td>\n",
       "      <td>0</td>\n",
       "      <td>0</td>\n",
       "      <td>1</td>\n",
       "      <td>1</td>\n",
       "      <td>0</td>\n",
       "      <td>0</td>\n",
       "      <td>0</td>\n",
       "    </tr>\n",
       "    <tr>\n",
       "      <th>4</th>\n",
       "      <td>0</td>\n",
       "      <td>0</td>\n",
       "      <td>0</td>\n",
       "      <td>0</td>\n",
       "      <td>0</td>\n",
       "      <td>0</td>\n",
       "      <td>1</td>\n",
       "      <td>0</td>\n",
       "      <td>0</td>\n",
       "      <td>0</td>\n",
       "    </tr>\n",
       "    <tr>\n",
       "      <th>5</th>\n",
       "      <td>0</td>\n",
       "      <td>0</td>\n",
       "      <td>0</td>\n",
       "      <td>0</td>\n",
       "      <td>0</td>\n",
       "      <td>0</td>\n",
       "      <td>0</td>\n",
       "      <td>0</td>\n",
       "      <td>0</td>\n",
       "      <td>0</td>\n",
       "    </tr>\n",
       "    <tr>\n",
       "      <th>6</th>\n",
       "      <td>0</td>\n",
       "      <td>0</td>\n",
       "      <td>0</td>\n",
       "      <td>0</td>\n",
       "      <td>0</td>\n",
       "      <td>0</td>\n",
       "      <td>0</td>\n",
       "      <td>0</td>\n",
       "      <td>0</td>\n",
       "      <td>0</td>\n",
       "    </tr>\n",
       "  </tbody>\n",
       "</table>\n",
       "</div>"
      ],
      "text/plain": [
       "   producer  producer9and  producers  produces  producing  product  \\\n",
       "0         0             0          0         0          0        0   \n",
       "1         0             0          0         0          0        0   \n",
       "2         0             0          0         0          0        0   \n",
       "3         0             0          0         0          0        1   \n",
       "4         0             0          0         0          0        0   \n",
       "5         0             0          0         0          0        0   \n",
       "6         0             0          0         0          0        0   \n",
       "\n",
       "   production  productions  productive  productively  \n",
       "0           0            0           0             0  \n",
       "1           0            0           0             0  \n",
       "2           0            0           0             0  \n",
       "3           1            0           0             0  \n",
       "4           1            0           0             0  \n",
       "5           0            0           0             0  \n",
       "6           0            0           0             0  "
      ]
     },
     "execution_count": 5,
     "metadata": {},
     "output_type": "execute_result"
    }
   ],
   "source": [
    "# Not sure exactly what these are yet\n",
    "i = 45000\n",
    "j = 10\n",
    "\n",
    "words = count_vectorizer.get_feature_names()[i:i+10]\n",
    "pd.DataFrame(count_features[j:j+7, i:i+10].todense(), columns=words)"
   ]
  },
  {
   "cell_type": "code",
   "execution_count": 6,
   "metadata": {},
   "outputs": [
    {
     "data": {
      "text/plain": [
       "MultinomialNB(alpha=1.0, class_prior=None, fit_prior=True)"
      ]
     },
     "execution_count": 6,
     "metadata": {},
     "output_type": "execute_result"
    }
   ],
   "source": [
    "model1 = MultinomialNB()\n",
    "model1.fit(count_features, d_train.sentiment)"
   ]
  },
  {
   "cell_type": "code",
   "execution_count": 7,
   "metadata": {
    "collapsed": true
   },
   "outputs": [],
   "source": [
    "pred1 = model1.predict_proba(count_test_features)"
   ]
  },
  {
   "cell_type": "code",
   "execution_count": 8,
   "metadata": {
    "collapsed": true
   },
   "outputs": [],
   "source": [
    "def performance(y_true, pred, color='g', ann=True):\n",
    "    acc = accuracy_score(y_true, pred[:,1] > 0.5) # what is 0.5 here?\n",
    "    auc = roc_auc_score(y_true, pred[:,1])\n",
    "    fpr, tpr, thr = roc_curve(y_true, pred[:,1])\n",
    "    \n",
    "    plot(fpr, tpr, color, linewidth='3')\n",
    "    xlabel('False positive rate')\n",
    "    ylabel('True positive rate')\n",
    "    \n",
    "    if ann:\n",
    "        annotate(\"Acc: %0.2f\" % acc, (0.2, 0.7), size=14)\n",
    "        annotate(\"AUC: %0.2f\" % auc, (0.2, 0.6), size=14)\n",
    "        \n",
    "    fpr_s = pd.Series(fpr, name='fpr')\n",
    "    tpr_s = pd.Series(tpr, name='tpr')\n",
    "    thr_s = pd.Series(thr, name= 'thr')\n",
    "    \n",
    "    return pd.concat([fpr_s, tpr_s, thr_s], axis=1)"
   ]
  },
  {
   "cell_type": "code",
   "execution_count": 9,
   "metadata": {},
   "outputs": [
    {
     "data": {
      "image/png": "[encoded data removed]",
      "text/plain": [
       "<matplotlib.figure.Figure at 0x113660dd8>"
      ]
     },
     "metadata": {},
     "output_type": "display_data"
    }
   ],
   "source": [
    "perf_data = performance(d_test.sentiment, pred1)"
   ]
  },
  {
   "cell_type": "code",
   "execution_count": 10,
   "metadata": {},
   "outputs": [
    {
     "data": {
      "text/html": [
       "<div>\n",
       "<style>\n",
       "    .dataframe thead tr:only-child th {\n",
       "        text-align: right;\n",
       "    }\n",
       "\n",
       "    .dataframe thead th {\n",
       "        text-align: left;\n",
       "    }\n",
       "\n",
       "    .dataframe tbody tr th {\n",
       "        vertical-align: top;\n",
       "    }\n",
       "</style>\n",
       "<table border=\"1\" class=\"dataframe\">\n",
       "  <thead>\n",
       "    <tr style=\"text-align: right;\">\n",
       "      <th></th>\n",
       "      <th>fpr</th>\n",
       "      <th>tpr</th>\n",
       "      <th>thr</th>\n",
       "    </tr>\n",
       "  </thead>\n",
       "  <tbody>\n",
       "    <tr>\n",
       "      <th>0</th>\n",
       "      <td>0.000000</td>\n",
       "      <td>0.000000</td>\n",
       "      <td>2.0</td>\n",
       "    </tr>\n",
       "    <tr>\n",
       "      <th>1</th>\n",
       "      <td>0.010163</td>\n",
       "      <td>0.207658</td>\n",
       "      <td>1.0</td>\n",
       "    </tr>\n",
       "    <tr>\n",
       "      <th>2</th>\n",
       "      <td>0.010163</td>\n",
       "      <td>0.208721</td>\n",
       "      <td>1.0</td>\n",
       "    </tr>\n",
       "    <tr>\n",
       "      <th>3</th>\n",
       "      <td>0.010163</td>\n",
       "      <td>0.213241</td>\n",
       "      <td>1.0</td>\n",
       "    </tr>\n",
       "    <tr>\n",
       "      <th>4</th>\n",
       "      <td>0.010163</td>\n",
       "      <td>0.214836</td>\n",
       "      <td>1.0</td>\n",
       "    </tr>\n",
       "  </tbody>\n",
       "</table>\n",
       "</div>"
      ],
      "text/plain": [
       "        fpr       tpr  thr\n",
       "0  0.000000  0.000000  2.0\n",
       "1  0.010163  0.207658  1.0\n",
       "2  0.010163  0.208721  1.0\n",
       "3  0.010163  0.213241  1.0\n",
       "4  0.010163  0.214836  1.0"
      ]
     },
     "execution_count": 10,
     "metadata": {},
     "output_type": "execute_result"
    }
   ],
   "source": [
    "perf_data.head()"
   ]
  },
  {
   "cell_type": "code",
   "execution_count": 11,
   "metadata": {},
   "outputs": [
    {
     "data": {
      "text/plain": [
       "1"
      ]
     },
     "execution_count": 11,
     "metadata": {},
     "output_type": "execute_result"
    }
   ],
   "source": [
    "review = \"I love this movie\"\n",
    "model1.predict(count_vectorizer.transform([review]))[0]"
   ]
  },
  {
   "cell_type": "code",
   "execution_count": 12,
   "metadata": {},
   "outputs": [
    {
     "data": {
      "text/plain": [
       "0"
      ]
     },
     "execution_count": 12,
     "metadata": {},
     "output_type": "execute_result"
    }
   ],
   "source": [
    "review = \"This movie is bad\"\n",
    "model1.predict(count_vectorizer.transform([review]))[0]"
   ]
  },
  {
   "cell_type": "code",
   "execution_count": 13,
   "metadata": {},
   "outputs": [
    {
     "data": {
      "text/plain": [
       "0"
      ]
     },
     "execution_count": 13,
     "metadata": {},
     "output_type": "execute_result"
    }
   ],
   "source": [
    "review = \"I was going to say something awesome, but I simply can't because the movie is so bad.\"\n",
    "model1.predict(count_vectorizer.transform([review]))[0]"
   ]
  },
  {
   "cell_type": "code",
   "execution_count": 14,
   "metadata": {},
   "outputs": [
    {
     "data": {
      "text/plain": [
       "0"
      ]
     },
     "execution_count": 14,
     "metadata": {},
     "output_type": "execute_result"
    }
   ],
   "source": [
    "# TRICKED!\n",
    "review = \"It might have bad actors, but everything else is good.\"\n",
    "model1.predict(count_vectorizer.transform([review]))[0]"
   ]
  },
  {
   "cell_type": "code",
   "execution_count": 15,
   "metadata": {
    "collapsed": true
   },
   "outputs": [],
   "source": [
    "tfidf_vectorizer = TfidfVectorizer()\n",
    "tfidf_features = tfidf_vectorizer.fit_transform(d_train.review)"
   ]
  },
  {
   "cell_type": "code",
   "execution_count": 16,
   "metadata": {},
   "outputs": [
    {
     "data": {
      "text/plain": [
       "MultinomialNB(alpha=1.0, class_prior=None, fit_prior=True)"
      ]
     },
     "execution_count": 16,
     "metadata": {},
     "output_type": "execute_result"
    }
   ],
   "source": [
    "model2 = MultinomialNB()\n",
    "model2.fit(tfidf_features, d_train.sentiment)"
   ]
  },
  {
   "cell_type": "code",
   "execution_count": 17,
   "metadata": {
    "collapsed": true
   },
   "outputs": [],
   "source": [
    "pred2 = model2.predict_proba(tfidf_vectorizer.transform(d_test.review))"
   ]
  },
  {
   "cell_type": "code",
   "execution_count": 18,
   "metadata": {},
   "outputs": [
    {
     "data": {
      "image/png": "[encoded data removed]",
      "text/plain": [
       "<matplotlib.figure.Figure at 0x116f95080>"
      ]
     },
     "metadata": {},
     "output_type": "display_data"
    }
   ],
   "source": [
    "perf_data2 = performance(d_test.sentiment, pred2)"
   ]
  },
  {
   "cell_type": "code",
   "execution_count": 19,
   "metadata": {
    "collapsed": true
   },
   "outputs": [],
   "source": [
    "def build_model(max_features=None, min_df=1, nb_alpha=1.0):\n",
    "    vectorizer = TfidfVectorizer(max_features=max_features, min_df=min_df)\n",
    "    features = vectorizer.fit_transform(d_train.review)\n",
    "    model = MultinomialNB(alpha=nb_alpha)\n",
    "    model.fit(features, d_train.sentiment)\n",
    "    pred = model.predict_proba(vectorizer.transform(d_test.review))\n",
    "    \n",
    "    return {\n",
    "        \"max_features\": max_features,\n",
    "        \"min_df\": min_df,\n",
    "        \"nb_alpha\": nb_alpha,\n",
    "        \"auc\": roc_auc_score(d_test.sentiment, pred[:,1])\n",
    "    }"
   ]
  },
  {
   "cell_type": "code",
   "execution_count": 20,
   "metadata": {},
   "outputs": [
    {
     "name": "stdout",
     "output_type": "stream",
     "text": [
      "{'max_features': 10000, 'min_df': 1, 'nb_alpha': 0.01, 'auc': 0.9275547899825486}\n",
      "{'max_features': 10000, 'min_df': 1, 'nb_alpha': 0.1, 'auc': 0.9283647525073816}\n",
      "{'max_features': 10000, 'min_df': 1, 'nb_alpha': 1.0, 'auc': 0.930977183874791}\n",
      "{'max_features': 10000, 'min_df': 2, 'nb_alpha': 0.01, 'auc': 0.9276133860422904}\n",
      "{'max_features': 10000, 'min_df': 2, 'nb_alpha': 0.1, 'auc': 0.9283994550281996}\n",
      "{'max_features': 10000, 'min_df': 2, 'nb_alpha': 1.0, 'auc': 0.9309666593397887}\n",
      "{'max_features': 10000, 'min_df': 3, 'nb_alpha': 0.01, 'auc': 0.9276432529659455}\n",
      "{'max_features': 10000, 'min_df': 3, 'nb_alpha': 0.1, 'auc': 0.9284069928708365}\n",
      "{'max_features': 10000, 'min_df': 3, 'nb_alpha': 1.0, 'auc': 0.9309789616678656}\n",
      "{'max_features': 30000, 'min_df': 1, 'nb_alpha': 0.01, 'auc': 0.9273615794311901}\n",
      "{'max_features': 30000, 'min_df': 1, 'nb_alpha': 0.1, 'auc': 0.9332378966603019}\n",
      "{'max_features': 30000, 'min_df': 1, 'nb_alpha': 1.0, 'auc': 0.9359541511432738}\n",
      "{'max_features': 30000, 'min_df': 2, 'nb_alpha': 0.01, 'auc': 0.9263160237680979}\n",
      "{'max_features': 30000, 'min_df': 2, 'nb_alpha': 0.1, 'auc': 0.9327066209778587}\n",
      "{'max_features': 30000, 'min_df': 2, 'nb_alpha': 1.0, 'auc': 0.9357970653471934}\n",
      "{'max_features': 30000, 'min_df': 3, 'nb_alpha': 0.01, 'auc': 0.9260886795897053}\n",
      "{'max_features': 30000, 'min_df': 3, 'nb_alpha': 0.1, 'auc': 0.9323330710970029}\n",
      "{'max_features': 30000, 'min_df': 3, 'nb_alpha': 1.0, 'auc': 0.9354705914269554}\n",
      "{'max_features': 50000, 'min_df': 1, 'nb_alpha': 0.01, 'auc': 0.9239802881148347}\n",
      "{'max_features': 50000, 'min_df': 1, 'nb_alpha': 0.1, 'auc': 0.9335534904869227}\n",
      "{'max_features': 50000, 'min_df': 1, 'nb_alpha': 1.0, 'auc': 0.9363299054875422}\n",
      "{'max_features': 50000, 'min_df': 2, 'nb_alpha': 0.01, 'auc': 0.9258422063578289}\n",
      "{'max_features': 50000, 'min_df': 2, 'nb_alpha': 0.1, 'auc': 0.9335658639267225}\n",
      "{'max_features': 50000, 'min_df': 2, 'nb_alpha': 1.0, 'auc': 0.9362415847275913}\n",
      "{'max_features': 50000, 'min_df': 3, 'nb_alpha': 0.01, 'auc': 0.9262192407131112}\n",
      "{'max_features': 50000, 'min_df': 3, 'nb_alpha': 0.1, 'auc': 0.9324546010315893}\n",
      "{'max_features': 50000, 'min_df': 3, 'nb_alpha': 1.0, 'auc': 0.93551567625933}\n",
      "{'max_features': None, 'min_df': 1, 'nb_alpha': 0.01, 'auc': 0.9241195248684451}\n",
      "{'max_features': None, 'min_df': 1, 'nb_alpha': 0.1, 'auc': 0.9341371043974851}\n",
      "{'max_features': None, 'min_df': 1, 'nb_alpha': 1.0, 'auc': 0.9365440228854592}\n",
      "{'max_features': None, 'min_df': 2, 'nb_alpha': 0.01, 'auc': 0.9258422063578289}\n",
      "{'max_features': None, 'min_df': 2, 'nb_alpha': 0.1, 'auc': 0.9335658639267225}\n",
      "{'max_features': None, 'min_df': 2, 'nb_alpha': 1.0, 'auc': 0.9362415847275913}\n",
      "{'max_features': None, 'min_df': 3, 'nb_alpha': 0.01, 'auc': 0.9262192407131112}\n",
      "{'max_features': None, 'min_df': 3, 'nb_alpha': 0.1, 'auc': 0.9324546010315893}\n",
      "{'max_features': None, 'min_df': 3, 'nb_alpha': 1.0, 'auc': 0.93551567625933}\n"
     ]
    }
   ],
   "source": [
    "param_values = {\n",
    "    \"max_features\": [10000, 30000, 50000, None],\n",
    "    \"min_df\": [1, 2, 3],\n",
    "    \"nb_alpha\": [0.01, 0.1, 1.0]\n",
    "}\n",
    "\n",
    "combos = list(itertools.product(*param_values.values()))\n",
    "\n",
    "results = []\n",
    "for p in combos:\n",
    "    res = build_model(**dict(zip(param_values.keys(), p)))\n",
    "    results.append(res)\n",
    "    print(res)"
   ]
  },
  {
   "cell_type": "code",
   "execution_count": 21,
   "metadata": {
    "scrolled": false
   },
   "outputs": [
    {
     "data": {
      "text/plain": [
       "{'auc': 0.9365440228854592, 'max_features': None, 'min_df': 1, 'nb_alpha': 1.0}"
      ]
     },
     "execution_count": 21,
     "metadata": {},
     "output_type": "execute_result"
    }
   ],
   "source": [
    "# results = [{}, {}, {}]\n",
    "max_auc = max(results, key=lambda x: x['auc'])\n",
    "max_auc"
   ]
  },
  {
   "cell_type": "code",
   "execution_count": 22,
   "metadata": {},
   "outputs": [
    {
     "data": {
      "text/html": [
       "<div>\n",
       "<style>\n",
       "    .dataframe thead tr:only-child th {\n",
       "        text-align: right;\n",
       "    }\n",
       "\n",
       "    .dataframe thead th {\n",
       "        text-align: left;\n",
       "    }\n",
       "\n",
       "    .dataframe tbody tr th {\n",
       "        vertical-align: top;\n",
       "    }\n",
       "</style>\n",
       "<table border=\"1\" class=\"dataframe\">\n",
       "  <thead>\n",
       "    <tr style=\"text-align: right;\">\n",
       "      <th></th>\n",
       "      <th>auc</th>\n",
       "      <th>max_features</th>\n",
       "      <th>min_df</th>\n",
       "      <th>nb_alpha</th>\n",
       "    </tr>\n",
       "  </thead>\n",
       "  <tbody>\n",
       "    <tr>\n",
       "      <th>0</th>\n",
       "      <td>0.927555</td>\n",
       "      <td>10000.0</td>\n",
       "      <td>1</td>\n",
       "      <td>0.01</td>\n",
       "    </tr>\n",
       "    <tr>\n",
       "      <th>1</th>\n",
       "      <td>0.928365</td>\n",
       "      <td>10000.0</td>\n",
       "      <td>1</td>\n",
       "      <td>0.10</td>\n",
       "    </tr>\n",
       "    <tr>\n",
       "      <th>2</th>\n",
       "      <td>0.930977</td>\n",
       "      <td>10000.0</td>\n",
       "      <td>1</td>\n",
       "      <td>1.00</td>\n",
       "    </tr>\n",
       "    <tr>\n",
       "      <th>3</th>\n",
       "      <td>0.927613</td>\n",
       "      <td>10000.0</td>\n",
       "      <td>2</td>\n",
       "      <td>0.01</td>\n",
       "    </tr>\n",
       "    <tr>\n",
       "      <th>4</th>\n",
       "      <td>0.928399</td>\n",
       "      <td>10000.0</td>\n",
       "      <td>2</td>\n",
       "      <td>0.10</td>\n",
       "    </tr>\n",
       "    <tr>\n",
       "      <th>5</th>\n",
       "      <td>0.930967</td>\n",
       "      <td>10000.0</td>\n",
       "      <td>2</td>\n",
       "      <td>1.00</td>\n",
       "    </tr>\n",
       "    <tr>\n",
       "      <th>6</th>\n",
       "      <td>0.927643</td>\n",
       "      <td>10000.0</td>\n",
       "      <td>3</td>\n",
       "      <td>0.01</td>\n",
       "    </tr>\n",
       "    <tr>\n",
       "      <th>7</th>\n",
       "      <td>0.928407</td>\n",
       "      <td>10000.0</td>\n",
       "      <td>3</td>\n",
       "      <td>0.10</td>\n",
       "    </tr>\n",
       "    <tr>\n",
       "      <th>8</th>\n",
       "      <td>0.930979</td>\n",
       "      <td>10000.0</td>\n",
       "      <td>3</td>\n",
       "      <td>1.00</td>\n",
       "    </tr>\n",
       "    <tr>\n",
       "      <th>9</th>\n",
       "      <td>0.927362</td>\n",
       "      <td>30000.0</td>\n",
       "      <td>1</td>\n",
       "      <td>0.01</td>\n",
       "    </tr>\n",
       "    <tr>\n",
       "      <th>10</th>\n",
       "      <td>0.933238</td>\n",
       "      <td>30000.0</td>\n",
       "      <td>1</td>\n",
       "      <td>0.10</td>\n",
       "    </tr>\n",
       "    <tr>\n",
       "      <th>11</th>\n",
       "      <td>0.935954</td>\n",
       "      <td>30000.0</td>\n",
       "      <td>1</td>\n",
       "      <td>1.00</td>\n",
       "    </tr>\n",
       "    <tr>\n",
       "      <th>12</th>\n",
       "      <td>0.926316</td>\n",
       "      <td>30000.0</td>\n",
       "      <td>2</td>\n",
       "      <td>0.01</td>\n",
       "    </tr>\n",
       "    <tr>\n",
       "      <th>13</th>\n",
       "      <td>0.932707</td>\n",
       "      <td>30000.0</td>\n",
       "      <td>2</td>\n",
       "      <td>0.10</td>\n",
       "    </tr>\n",
       "    <tr>\n",
       "      <th>14</th>\n",
       "      <td>0.935797</td>\n",
       "      <td>30000.0</td>\n",
       "      <td>2</td>\n",
       "      <td>1.00</td>\n",
       "    </tr>\n",
       "    <tr>\n",
       "      <th>15</th>\n",
       "      <td>0.926089</td>\n",
       "      <td>30000.0</td>\n",
       "      <td>3</td>\n",
       "      <td>0.01</td>\n",
       "    </tr>\n",
       "    <tr>\n",
       "      <th>16</th>\n",
       "      <td>0.932333</td>\n",
       "      <td>30000.0</td>\n",
       "      <td>3</td>\n",
       "      <td>0.10</td>\n",
       "    </tr>\n",
       "    <tr>\n",
       "      <th>17</th>\n",
       "      <td>0.935471</td>\n",
       "      <td>30000.0</td>\n",
       "      <td>3</td>\n",
       "      <td>1.00</td>\n",
       "    </tr>\n",
       "    <tr>\n",
       "      <th>18</th>\n",
       "      <td>0.923980</td>\n",
       "      <td>50000.0</td>\n",
       "      <td>1</td>\n",
       "      <td>0.01</td>\n",
       "    </tr>\n",
       "    <tr>\n",
       "      <th>19</th>\n",
       "      <td>0.933553</td>\n",
       "      <td>50000.0</td>\n",
       "      <td>1</td>\n",
       "      <td>0.10</td>\n",
       "    </tr>\n",
       "    <tr>\n",
       "      <th>20</th>\n",
       "      <td>0.936330</td>\n",
       "      <td>50000.0</td>\n",
       "      <td>1</td>\n",
       "      <td>1.00</td>\n",
       "    </tr>\n",
       "    <tr>\n",
       "      <th>21</th>\n",
       "      <td>0.925842</td>\n",
       "      <td>50000.0</td>\n",
       "      <td>2</td>\n",
       "      <td>0.01</td>\n",
       "    </tr>\n",
       "    <tr>\n",
       "      <th>22</th>\n",
       "      <td>0.933566</td>\n",
       "      <td>50000.0</td>\n",
       "      <td>2</td>\n",
       "      <td>0.10</td>\n",
       "    </tr>\n",
       "    <tr>\n",
       "      <th>23</th>\n",
       "      <td>0.936242</td>\n",
       "      <td>50000.0</td>\n",
       "      <td>2</td>\n",
       "      <td>1.00</td>\n",
       "    </tr>\n",
       "    <tr>\n",
       "      <th>24</th>\n",
       "      <td>0.926219</td>\n",
       "      <td>50000.0</td>\n",
       "      <td>3</td>\n",
       "      <td>0.01</td>\n",
       "    </tr>\n",
       "    <tr>\n",
       "      <th>25</th>\n",
       "      <td>0.932455</td>\n",
       "      <td>50000.0</td>\n",
       "      <td>3</td>\n",
       "      <td>0.10</td>\n",
       "    </tr>\n",
       "    <tr>\n",
       "      <th>26</th>\n",
       "      <td>0.935516</td>\n",
       "      <td>50000.0</td>\n",
       "      <td>3</td>\n",
       "      <td>1.00</td>\n",
       "    </tr>\n",
       "    <tr>\n",
       "      <th>27</th>\n",
       "      <td>0.924120</td>\n",
       "      <td>NaN</td>\n",
       "      <td>1</td>\n",
       "      <td>0.01</td>\n",
       "    </tr>\n",
       "    <tr>\n",
       "      <th>28</th>\n",
       "      <td>0.934137</td>\n",
       "      <td>NaN</td>\n",
       "      <td>1</td>\n",
       "      <td>0.10</td>\n",
       "    </tr>\n",
       "    <tr>\n",
       "      <th>29</th>\n",
       "      <td>0.936544</td>\n",
       "      <td>NaN</td>\n",
       "      <td>1</td>\n",
       "      <td>1.00</td>\n",
       "    </tr>\n",
       "    <tr>\n",
       "      <th>30</th>\n",
       "      <td>0.925842</td>\n",
       "      <td>NaN</td>\n",
       "      <td>2</td>\n",
       "      <td>0.01</td>\n",
       "    </tr>\n",
       "    <tr>\n",
       "      <th>31</th>\n",
       "      <td>0.933566</td>\n",
       "      <td>NaN</td>\n",
       "      <td>2</td>\n",
       "      <td>0.10</td>\n",
       "    </tr>\n",
       "    <tr>\n",
       "      <th>32</th>\n",
       "      <td>0.936242</td>\n",
       "      <td>NaN</td>\n",
       "      <td>2</td>\n",
       "      <td>1.00</td>\n",
       "    </tr>\n",
       "    <tr>\n",
       "      <th>33</th>\n",
       "      <td>0.926219</td>\n",
       "      <td>NaN</td>\n",
       "      <td>3</td>\n",
       "      <td>0.01</td>\n",
       "    </tr>\n",
       "    <tr>\n",
       "      <th>34</th>\n",
       "      <td>0.932455</td>\n",
       "      <td>NaN</td>\n",
       "      <td>3</td>\n",
       "      <td>0.10</td>\n",
       "    </tr>\n",
       "    <tr>\n",
       "      <th>35</th>\n",
       "      <td>0.935516</td>\n",
       "      <td>NaN</td>\n",
       "      <td>3</td>\n",
       "      <td>1.00</td>\n",
       "    </tr>\n",
       "  </tbody>\n",
       "</table>\n",
       "</div>"
      ],
      "text/plain": [
       "         auc  max_features  min_df  nb_alpha\n",
       "0   0.927555       10000.0       1      0.01\n",
       "1   0.928365       10000.0       1      0.10\n",
       "2   0.930977       10000.0       1      1.00\n",
       "3   0.927613       10000.0       2      0.01\n",
       "4   0.928399       10000.0       2      0.10\n",
       "5   0.930967       10000.0       2      1.00\n",
       "6   0.927643       10000.0       3      0.01\n",
       "7   0.928407       10000.0       3      0.10\n",
       "8   0.930979       10000.0       3      1.00\n",
       "9   0.927362       30000.0       1      0.01\n",
       "10  0.933238       30000.0       1      0.10\n",
       "11  0.935954       30000.0       1      1.00\n",
       "12  0.926316       30000.0       2      0.01\n",
       "13  0.932707       30000.0       2      0.10\n",
       "14  0.935797       30000.0       2      1.00\n",
       "15  0.926089       30000.0       3      0.01\n",
       "16  0.932333       30000.0       3      0.10\n",
       "17  0.935471       30000.0       3      1.00\n",
       "18  0.923980       50000.0       1      0.01\n",
       "19  0.933553       50000.0       1      0.10\n",
       "20  0.936330       50000.0       1      1.00\n",
       "21  0.925842       50000.0       2      0.01\n",
       "22  0.933566       50000.0       2      0.10\n",
       "23  0.936242       50000.0       2      1.00\n",
       "24  0.926219       50000.0       3      0.01\n",
       "25  0.932455       50000.0       3      0.10\n",
       "26  0.935516       50000.0       3      1.00\n",
       "27  0.924120           NaN       1      0.01\n",
       "28  0.934137           NaN       1      0.10\n",
       "29  0.936544           NaN       1      1.00\n",
       "30  0.925842           NaN       2      0.01\n",
       "31  0.933566           NaN       2      0.10\n",
       "32  0.936242           NaN       2      1.00\n",
       "33  0.926219           NaN       3      0.01\n",
       "34  0.932455           NaN       3      0.10\n",
       "35  0.935516           NaN       3      1.00"
      ]
     },
     "execution_count": 22,
     "metadata": {},
     "output_type": "execute_result"
    }
   ],
   "source": [
    "results_df = pd.DataFrame(results)\n",
    "results_df"
   ]
  },
  {
   "cell_type": "code",
   "execution_count": 23,
   "metadata": {},
   "outputs": [],
   "source": [
    "# Auc vs max_features\n",
    "#data.plot(x='trip_time_in_secs', y='trip_distance', kind='scatter', s=2, xlim=(0, 5000), ylim=(0, 40))\n",
    "#results_df.plot(x='max_features', y='auc', kind='line')"
   ]
  },
  {
   "cell_type": "code",
   "execution_count": 48,
   "metadata": {},
   "outputs": [
    {
     "data": {
      "text/plain": [
       "<matplotlib.axes._subplots.AxesSubplot at 0x113fec128>"
      ]
     },
     "execution_count": 48,
     "metadata": {},
     "output_type": "execute_result"
    },
    {
     "data": {
      "image/png": "[encoded data removed]",
      "text/plain": [
       "<matplotlib.figure.Figure at 0x112651390>"
      ]
     },
     "metadata": {},
     "output_type": "display_data"
    }
   ],
   "source": [
    "results_df.plot(x='min_df', y='auc', kind='line')"
   ]
  },
  {
   "cell_type": "markdown",
   "metadata": {
    "collapsed": true
   },
   "source": [
    "# Word2Vec"
   ]
  },
  {
   "cell_type": "code",
   "execution_count": 25,
   "metadata": {},
   "outputs": [
    {
     "name": "stdout",
     "output_type": "stream",
     "text": [
      "Read 25000 labeled train reviews, 25000 labeled test reviews, and 50000 unlabeled reviews\n"
     ]
    }
   ],
   "source": [
    "w_train = pd.read_csv(path + 'labeledTrainData.tsv', header=0, delimiter='\\t', quoting=3)\n",
    "w_test = pd.read_csv(path + 'testData.tsv', header=0, delimiter='\\t', quoting=3)\n",
    "w_train_u = pd.read_csv(path + 'unlabeledTrainData.tsv', header=0, delimiter='\\t', quoting=3)\n",
    "\n",
    "print(\"Read %d labeled train reviews, %d labeled test reviews, and %d unlabeled reviews\" % (w_train[\"review\"].size,  \n",
    " w_test[\"review\"].size, w_train_u[\"review\"].size ))"
   ]
  },
  {
   "cell_type": "code",
   "execution_count": 27,
   "metadata": {
    "collapsed": true
   },
   "outputs": [],
   "source": [
    "def review_to_wordlist( review, remove_stopwords=False ):\n",
    "    # Function to convert a document to a sequence of words,\n",
    "    # optionally removing stop words.  Returns a list of words.\n",
    "    #\n",
    "    # 1. Remove HTML\n",
    "    review_text = BeautifulSoup(review).get_text()\n",
    "    #  \n",
    "    # 2. Remove non-letters\n",
    "    review_text = re.sub(\"[^a-zA-Z]\",\" \", review_text)\n",
    "    #\n",
    "    # 3. Convert words to lower case and split them\n",
    "    words = review_text.lower().split()\n",
    "    #\n",
    "    # 4. Optionally remove stop words (false by default)\n",
    "    if remove_stopwords:\n",
    "        stops = set(stopwords.words(\"english\"))\n",
    "        words = [w for w in words if not w in stops]\n",
    "    #\n",
    "    # 5. Return a list of words\n",
    "    return(words)"
   ]
  },
  {
   "cell_type": "code",
   "execution_count": 29,
   "metadata": {
    "collapsed": true
   },
   "outputs": [],
   "source": [
    "n_tokenizer = nltk.data.load('tokenizers/punkt/english.pickle')"
   ]
  },
  {
   "cell_type": "code",
   "execution_count": 30,
   "metadata": {
    "collapsed": true
   },
   "outputs": [],
   "source": [
    "# Define a function to split a review into parsed sentences\n",
    "def review_to_sentences( review, tokenizer, remove_stopwords=False ):\n",
    "    # Function to split a review into parsed sentences. Returns a \n",
    "    # list of sentences, where each sentence is a list of words\n",
    "    #\n",
    "    # 1. Use the NLTK tokenizer to split the paragraph into sentences\n",
    "    raw_sentences = tokenizer.tokenize(review.strip())\n",
    "    #\n",
    "    # 2. Loop over each sentence\n",
    "    sentences = []\n",
    "    for raw_sentence in raw_sentences:\n",
    "        # If a sentence is empty, skip it\n",
    "        if len(raw_sentence) > 0:\n",
    "            # Otherwise, call review_to_wordlist to get a list of words\n",
    "            sentences.append( review_to_wordlist( raw_sentence, \\\n",
    "              remove_stopwords ))\n",
    "    #\n",
    "    # Return the list of sentences (each sentence is a list of words,\n",
    "    # so this returns a list of lists\n",
    "    return sentences"
   ]
  },
  {
   "cell_type": "code",
   "execution_count": 32,
   "metadata": {},
   "outputs": [
    {
     "name": "stderr",
     "output_type": "stream",
     "text": [
      "/Users/troy/anaconda3/lib/python3.6/site-packages/bs4/__init__.py:181: UserWarning: No parser was explicitly specified, so I'm using the best available HTML parser for this system (\"lxml\"). This usually isn't a problem, but if you run this code on another system, or in a different virtual environment, it may use a different parser and behave differently.\n",
      "\n",
      "The code that caused this warning is on line 193 of the file /Users/troy/anaconda3/lib/python3.6/runpy.py. To get rid of this warning, change code that looks like this:\n",
      "\n",
      " BeautifulSoup(YOUR_MARKUP})\n",
      "\n",
      "to this:\n",
      "\n",
      " BeautifulSoup(YOUR_MARKUP, \"lxml\")\n",
      "\n",
      "  markup_type=markup_type))\n",
      "/Users/troy/anaconda3/lib/python3.6/site-packages/bs4/__init__.py:219: UserWarning: \"b'.'\" looks like a filename, not markup. You should probably open this file and pass the filehandle into Beautiful Soup.\n",
      "  ' Beautiful Soup.' % markup)\n",
      "/Users/troy/anaconda3/lib/python3.6/site-packages/bs4/__init__.py:282: UserWarning: \"http://www.happierabroad.com\"\" looks like a URL. Beautiful Soup is not an HTTP client. You should probably use an HTTP client like requests to get the document behind the URL, and feed that document to Beautiful Soup.\n",
      "  ' that document to Beautiful Soup.' % decoded_markup\n",
      "/Users/troy/anaconda3/lib/python3.6/site-packages/bs4/__init__.py:282: UserWarning: \"http://www.archive.org/details/LovefromaStranger\"\" looks like a URL. Beautiful Soup is not an HTTP client. You should probably use an HTTP client like requests to get the document behind the URL, and feed that document to Beautiful Soup.\n",
      "  ' that document to Beautiful Soup.' % decoded_markup\n",
      "/Users/troy/anaconda3/lib/python3.6/site-packages/bs4/__init__.py:282: UserWarning: \"http://www.loosechangeguide.com/LooseChangeGuide.html\"\" looks like a URL. Beautiful Soup is not an HTTP client. You should probably use an HTTP client like requests to get the document behind the URL, and feed that document to Beautiful Soup.\n",
      "  ' that document to Beautiful Soup.' % decoded_markup\n",
      "/Users/troy/anaconda3/lib/python3.6/site-packages/bs4/__init__.py:282: UserWarning: \"http://www.msnbc.msn.com/id/4972055/site/newsweek/\"\" looks like a URL. Beautiful Soup is not an HTTP client. You should probably use an HTTP client like requests to get the document behind the URL, and feed that document to Beautiful Soup.\n",
      "  ' that document to Beautiful Soup.' % decoded_markup\n",
      "/Users/troy/anaconda3/lib/python3.6/site-packages/bs4/__init__.py:219: UserWarning: \"b'..'\" looks like a filename, not markup. You should probably open this file and pass the filehandle into Beautiful Soup.\n",
      "  ' Beautiful Soup.' % markup)\n",
      "/Users/troy/anaconda3/lib/python3.6/site-packages/bs4/__init__.py:282: UserWarning: \"http://www.youtube.com/watch?v=a0KSqelmgN8\"\" looks like a URL. Beautiful Soup is not an HTTP client. You should probably use an HTTP client like requests to get the document behind the URL, and feed that document to Beautiful Soup.\n",
      "  ' that document to Beautiful Soup.' % decoded_markup\n",
      "/Users/troy/anaconda3/lib/python3.6/site-packages/bs4/__init__.py:282: UserWarning: \"http://jake-weird.blogspot.com/2007/08/beneath.html\"\" looks like a URL. Beautiful Soup is not an HTTP client. You should probably use an HTTP client like requests to get the document behind the URL, and feed that document to Beautiful Soup.\n",
      "  ' that document to Beautiful Soup.' % decoded_markup\n"
     ]
    }
   ],
   "source": [
    "sentences = []\n",
    "\n",
    "for review in w_train['review']:\n",
    "    sentences += review_to_sentences(review, n_tokenizer)\n",
    "    \n",
    "for review in w_train_u['review']:\n",
    "    sentences += review_to_sentences(review, n_tokenizer)"
   ]
  },
  {
   "cell_type": "code",
   "execution_count": 33,
   "metadata": {},
   "outputs": [
    {
     "name": "stdout",
     "output_type": "stream",
     "text": [
      "795538\n"
     ]
    }
   ],
   "source": [
    "print(len(sentences))"
   ]
  },
  {
   "cell_type": "code",
   "execution_count": 34,
   "metadata": {},
   "outputs": [
    {
     "name": "stdout",
     "output_type": "stream",
     "text": [
      "['with', 'all', 'this', 'stuff', 'going', 'down', 'at', 'the', 'moment', 'with', 'mj', 'i', 've', 'started', 'listening', 'to', 'his', 'music', 'watching', 'the', 'odd', 'documentary', 'here', 'and', 'there', 'watched', 'the', 'wiz', 'and', 'watched', 'moonwalker', 'again']\n"
     ]
    }
   ],
   "source": [
    "print(sentences[0])"
   ]
  },
  {
   "cell_type": "code",
   "execution_count": 35,
   "metadata": {},
   "outputs": [
    {
     "name": "stdout",
     "output_type": "stream",
     "text": [
      "['maybe', 'i', 'just', 'want', 'to', 'get', 'a', 'certain', 'insight', 'into', 'this', 'guy', 'who', 'i', 'thought', 'was', 'really', 'cool', 'in', 'the', 'eighties', 'just', 'to', 'maybe', 'make', 'up', 'my', 'mind', 'whether', 'he', 'is', 'guilty', 'or', 'innocent']\n"
     ]
    }
   ],
   "source": [
    "print(sentences[1])"
   ]
  },
  {
   "cell_type": "code",
   "execution_count": 37,
   "metadata": {
    "collapsed": true
   },
   "outputs": [],
   "source": [
    "logging.basicConfig(format='%(asctime)s : %(levelname)s : %(message)s', level=logging.INFO)\n"
   ]
  },
  {
   "cell_type": "code",
   "execution_count": 38,
   "metadata": {
    "collapsed": true
   },
   "outputs": [],
   "source": [
    "num_features = 300    # Word vector dimensionality                      \n",
    "min_word_count = 40   # Minimum word count                        \n",
    "num_workers = 4       # Number of threads to run in parallel\n",
    "context = 10          # Context window size                                                                                    \n",
    "downsampling = 1e-3   # Downsample setting for frequent words"
   ]
  },
  {
   "cell_type": "code",
   "execution_count": 40,
   "metadata": {},
   "outputs": [
    {
     "name": "stderr",
     "output_type": "stream",
     "text": [
      "2018-02-14 16:07:13,982 : INFO : 'pattern' package not found; tag filters are not available for English\n",
      "2018-02-14 16:07:13,988 : INFO : collecting all words and their counts\n",
      "2018-02-14 16:07:13,989 : INFO : PROGRESS: at sentence #0, processed 0 words, keeping 0 word types\n",
      "2018-02-14 16:07:14,073 : INFO : PROGRESS: at sentence #10000, processed 225803 words, keeping 17776 word types\n",
      "2018-02-14 16:07:14,154 : INFO : PROGRESS: at sentence #20000, processed 451892 words, keeping 24948 word types\n",
      "2018-02-14 16:07:14,238 : INFO : PROGRESS: at sentence #30000, processed 671315 words, keeping 30034 word types\n",
      "2018-02-14 16:07:14,324 : INFO : PROGRESS: at sentence #40000, processed 897815 words, keeping 34348 word types\n",
      "2018-02-14 16:07:14,404 : INFO : PROGRESS: at sentence #50000, processed 1116963 words, keeping 37761 word types\n",
      "2018-02-14 16:07:14,487 : INFO : PROGRESS: at sentence #60000, processed 1338404 words, keeping 40723 word types\n",
      "2018-02-14 16:07:14,567 : INFO : PROGRESS: at sentence #70000, processed 1561580 words, keeping 43333 word types\n",
      "2018-02-14 16:07:14,648 : INFO : PROGRESS: at sentence #80000, processed 1780887 words, keeping 45714 word types\n",
      "2018-02-14 16:07:14,730 : INFO : PROGRESS: at sentence #90000, processed 2004996 words, keeping 48135 word types\n",
      "2018-02-14 16:07:14,815 : INFO : PROGRESS: at sentence #100000, processed 2226966 words, keeping 50207 word types\n",
      "2018-02-14 16:07:14,896 : INFO : PROGRESS: at sentence #110000, processed 2446580 words, keeping 52081 word types\n",
      "2018-02-14 16:07:14,977 : INFO : PROGRESS: at sentence #120000, processed 2668775 words, keeping 54119 word types\n",
      "2018-02-14 16:07:15,061 : INFO : PROGRESS: at sentence #130000, processed 2894303 words, keeping 55847 word types\n",
      "2018-02-14 16:07:15,141 : INFO : PROGRESS: at sentence #140000, processed 3107005 words, keeping 57346 word types\n",
      "2018-02-14 16:07:15,224 : INFO : PROGRESS: at sentence #150000, processed 3332627 words, keeping 59055 word types\n",
      "2018-02-14 16:07:15,309 : INFO : PROGRESS: at sentence #160000, processed 3555315 words, keeping 60617 word types\n",
      "2018-02-14 16:07:15,392 : INFO : PROGRESS: at sentence #170000, processed 3778655 words, keeping 62077 word types\n",
      "2018-02-14 16:07:15,475 : INFO : PROGRESS: at sentence #180000, processed 3999236 words, keeping 63496 word types\n",
      "2018-02-14 16:07:15,557 : INFO : PROGRESS: at sentence #190000, processed 4224449 words, keeping 64794 word types\n",
      "2018-02-14 16:07:15,642 : INFO : PROGRESS: at sentence #200000, processed 4448603 words, keeping 66087 word types\n",
      "2018-02-14 16:07:15,725 : INFO : PROGRESS: at sentence #210000, processed 4669967 words, keeping 67390 word types\n",
      "2018-02-14 16:07:15,809 : INFO : PROGRESS: at sentence #220000, processed 4894968 words, keeping 68697 word types\n",
      "2018-02-14 16:07:15,894 : INFO : PROGRESS: at sentence #230000, processed 5117545 words, keeping 69958 word types\n",
      "2018-02-14 16:07:15,979 : INFO : PROGRESS: at sentence #240000, processed 5345050 words, keeping 71167 word types\n",
      "2018-02-14 16:07:16,056 : INFO : PROGRESS: at sentence #250000, processed 5559165 words, keeping 72351 word types\n",
      "2018-02-14 16:07:16,138 : INFO : PROGRESS: at sentence #260000, processed 5779146 words, keeping 73478 word types\n",
      "2018-02-14 16:07:16,218 : INFO : PROGRESS: at sentence #270000, processed 6000435 words, keeping 74767 word types\n",
      "2018-02-14 16:07:16,299 : INFO : PROGRESS: at sentence #280000, processed 6226314 words, keeping 76369 word types\n",
      "2018-02-14 16:07:16,371 : INFO : PROGRESS: at sentence #290000, processed 6449474 words, keeping 77839 word types\n",
      "2018-02-14 16:07:16,434 : INFO : PROGRESS: at sentence #300000, processed 6674077 words, keeping 79171 word types\n",
      "2018-02-14 16:07:16,491 : INFO : PROGRESS: at sentence #310000, processed 6899391 words, keeping 80480 word types\n",
      "2018-02-14 16:07:16,552 : INFO : PROGRESS: at sentence #320000, processed 7124278 words, keeping 81808 word types\n",
      "2018-02-14 16:07:16,612 : INFO : PROGRESS: at sentence #330000, processed 7346021 words, keeping 83030 word types\n",
      "2018-02-14 16:07:16,676 : INFO : PROGRESS: at sentence #340000, processed 7575533 words, keeping 84280 word types\n",
      "2018-02-14 16:07:16,737 : INFO : PROGRESS: at sentence #350000, processed 7798803 words, keeping 85425 word types\n",
      "2018-02-14 16:07:16,801 : INFO : PROGRESS: at sentence #360000, processed 8019427 words, keeping 86596 word types\n",
      "2018-02-14 16:07:16,869 : INFO : PROGRESS: at sentence #370000, processed 8246619 words, keeping 87708 word types\n",
      "2018-02-14 16:07:16,929 : INFO : PROGRESS: at sentence #380000, processed 8471766 words, keeping 88878 word types\n",
      "2018-02-14 16:07:16,990 : INFO : PROGRESS: at sentence #390000, processed 8701497 words, keeping 89907 word types\n",
      "2018-02-14 16:07:17,050 : INFO : PROGRESS: at sentence #400000, processed 8924446 words, keeping 90916 word types\n",
      "2018-02-14 16:07:17,112 : INFO : PROGRESS: at sentence #410000, processed 9145796 words, keeping 91880 word types\n",
      "2018-02-14 16:07:17,172 : INFO : PROGRESS: at sentence #420000, processed 9366876 words, keeping 92912 word types\n",
      "2018-02-14 16:07:17,231 : INFO : PROGRESS: at sentence #430000, processed 9594413 words, keeping 93932 word types\n",
      "2018-02-14 16:07:17,292 : INFO : PROGRESS: at sentence #440000, processed 9821166 words, keeping 94906 word types\n",
      "2018-02-14 16:07:17,355 : INFO : PROGRESS: at sentence #450000, processed 10044928 words, keeping 96036 word types\n",
      "2018-02-14 16:07:17,417 : INFO : PROGRESS: at sentence #460000, processed 10277688 words, keeping 97088 word types\n",
      "2018-02-14 16:07:17,489 : INFO : PROGRESS: at sentence #470000, processed 10505613 words, keeping 97933 word types\n",
      "2018-02-14 16:07:17,545 : INFO : PROGRESS: at sentence #480000, processed 10725997 words, keeping 98862 word types\n",
      "2018-02-14 16:07:17,604 : INFO : PROGRESS: at sentence #490000, processed 10952741 words, keeping 99871 word types\n",
      "2018-02-14 16:07:17,667 : INFO : PROGRESS: at sentence #500000, processed 11174397 words, keeping 100765 word types\n",
      "2018-02-14 16:07:17,724 : INFO : PROGRESS: at sentence #510000, processed 11399672 words, keeping 101699 word types\n",
      "2018-02-14 16:07:17,787 : INFO : PROGRESS: at sentence #520000, processed 11623020 words, keeping 102598 word types\n",
      "2018-02-14 16:07:17,848 : INFO : PROGRESS: at sentence #530000, processed 11847418 words, keeping 103400 word types\n",
      "2018-02-14 16:07:17,911 : INFO : PROGRESS: at sentence #540000, processed 12072033 words, keeping 104265 word types\n",
      "2018-02-14 16:07:17,976 : INFO : PROGRESS: at sentence #550000, processed 12297571 words, keeping 105133 word types\n",
      "2018-02-14 16:07:18,039 : INFO : PROGRESS: at sentence #560000, processed 12518861 words, keeping 105997 word types\n",
      "2018-02-14 16:07:18,103 : INFO : PROGRESS: at sentence #570000, processed 12747916 words, keeping 106787 word types\n",
      "2018-02-14 16:07:18,164 : INFO : PROGRESS: at sentence #580000, processed 12969412 words, keeping 107665 word types\n",
      "2018-02-14 16:07:18,225 : INFO : PROGRESS: at sentence #590000, processed 13194937 words, keeping 108501 word types\n",
      "2018-02-14 16:07:18,285 : INFO : PROGRESS: at sentence #600000, processed 13417135 words, keeping 109218 word types\n",
      "2018-02-14 16:07:18,345 : INFO : PROGRESS: at sentence #610000, processed 13638158 words, keeping 110092 word types\n",
      "2018-02-14 16:07:18,409 : INFO : PROGRESS: at sentence #620000, processed 13864483 words, keeping 110837 word types\n",
      "2018-02-14 16:07:18,480 : INFO : PROGRESS: at sentence #630000, processed 14088769 words, keeping 111610 word types\n",
      "2018-02-14 16:07:18,564 : INFO : PROGRESS: at sentence #640000, processed 14309552 words, keeping 112416 word types\n",
      "2018-02-14 16:07:18,649 : INFO : PROGRESS: at sentence #650000, processed 14535308 words, keeping 113196 word types\n",
      "2018-02-14 16:07:18,733 : INFO : PROGRESS: at sentence #660000, processed 14758098 words, keeping 113945 word types\n",
      "2018-02-14 16:07:18,817 : INFO : PROGRESS: at sentence #670000, processed 14981482 words, keeping 114643 word types\n",
      "2018-02-14 16:07:18,902 : INFO : PROGRESS: at sentence #680000, processed 15206314 words, keeping 115354 word types\n",
      "2018-02-14 16:07:18,986 : INFO : PROGRESS: at sentence #690000, processed 15428507 words, keeping 116131 word types\n",
      "2018-02-14 16:07:19,074 : INFO : PROGRESS: at sentence #700000, processed 15657213 words, keeping 116943 word types\n"
     ]
    },
    {
     "name": "stderr",
     "output_type": "stream",
     "text": [
      "2018-02-14 16:07:19,156 : INFO : PROGRESS: at sentence #710000, processed 15880202 words, keeping 117596 word types\n",
      "2018-02-14 16:07:19,237 : INFO : PROGRESS: at sentence #720000, processed 16105489 words, keeping 118221 word types\n",
      "2018-02-14 16:07:19,320 : INFO : PROGRESS: at sentence #730000, processed 16331870 words, keeping 118954 word types\n",
      "2018-02-14 16:07:19,399 : INFO : PROGRESS: at sentence #740000, processed 16552903 words, keeping 119668 word types\n",
      "2018-02-14 16:07:19,479 : INFO : PROGRESS: at sentence #750000, processed 16771230 words, keeping 120295 word types\n",
      "2018-02-14 16:07:19,557 : INFO : PROGRESS: at sentence #760000, processed 16990622 words, keeping 120930 word types\n",
      "2018-02-14 16:07:19,645 : INFO : PROGRESS: at sentence #770000, processed 17217759 words, keeping 121703 word types\n",
      "2018-02-14 16:07:19,732 : INFO : PROGRESS: at sentence #780000, processed 17447905 words, keeping 122402 word types\n",
      "2018-02-14 16:07:19,814 : INFO : PROGRESS: at sentence #790000, processed 17674981 words, keeping 123066 word types\n",
      "2018-02-14 16:07:19,860 : INFO : collected 123504 word types from a corpus of 17798082 raw words and 795538 sentences\n",
      "2018-02-14 16:07:19,862 : INFO : Loading a fresh vocabulary\n",
      "2018-02-14 16:07:19,937 : INFO : min_count=40 retains 16490 unique words (13% of original 123504, drops 107014)\n",
      "2018-02-14 16:07:19,939 : INFO : min_count=40 leaves 17238940 word corpus (96% of original 17798082, drops 559142)\n",
      "2018-02-14 16:07:19,984 : INFO : deleting the raw counts dictionary of 123504 items\n",
      "2018-02-14 16:07:19,992 : INFO : sample=0.001 downsamples 48 most-common words\n",
      "2018-02-14 16:07:19,994 : INFO : downsampling leaves estimated 12749658 word corpus (74.0% of prior 17238940)\n",
      "2018-02-14 16:07:19,996 : INFO : estimated required memory for 16490 words and 300 dimensions: 47821000 bytes\n",
      "2018-02-14 16:07:20,046 : INFO : resetting layer weights\n",
      "2018-02-14 16:07:20,292 : INFO : training model with 4 workers on 16490 vocabulary and 300 features, using sg=0 hs=0 sample=0.001 negative=5 window=10\n",
      "2018-02-14 16:07:21,306 : INFO : PROGRESS: at 1.94% examples, 1223620 words/s, in_qsize 7, out_qsize 0\n",
      "2018-02-14 16:07:22,311 : INFO : PROGRESS: at 4.01% examples, 1263273 words/s, in_qsize 7, out_qsize 0\n",
      "2018-02-14 16:07:23,313 : INFO : PROGRESS: at 5.79% examples, 1218028 words/s, in_qsize 7, out_qsize 0\n",
      "2018-02-14 16:07:24,316 : INFO : PROGRESS: at 7.80% examples, 1232510 words/s, in_qsize 7, out_qsize 0\n",
      "2018-02-14 16:07:25,318 : INFO : PROGRESS: at 9.64% examples, 1221652 words/s, in_qsize 7, out_qsize 0\n",
      "2018-02-14 16:07:26,323 : INFO : PROGRESS: at 11.40% examples, 1204231 words/s, in_qsize 7, out_qsize 0\n",
      "2018-02-14 16:07:27,324 : INFO : PROGRESS: at 13.27% examples, 1203556 words/s, in_qsize 7, out_qsize 0\n",
      "2018-02-14 16:07:28,326 : INFO : PROGRESS: at 15.18% examples, 1204962 words/s, in_qsize 7, out_qsize 0\n",
      "2018-02-14 16:07:29,326 : INFO : PROGRESS: at 16.89% examples, 1192692 words/s, in_qsize 7, out_qsize 0\n",
      "2018-02-14 16:07:30,329 : INFO : PROGRESS: at 18.59% examples, 1181790 words/s, in_qsize 7, out_qsize 0\n",
      "2018-02-14 16:07:31,329 : INFO : PROGRESS: at 20.13% examples, 1164087 words/s, in_qsize 7, out_qsize 0\n",
      "2018-02-14 16:07:32,333 : INFO : PROGRESS: at 21.84% examples, 1156650 words/s, in_qsize 7, out_qsize 0\n",
      "2018-02-14 16:07:33,333 : INFO : PROGRESS: at 23.58% examples, 1152416 words/s, in_qsize 7, out_qsize 0\n",
      "2018-02-14 16:07:34,341 : INFO : PROGRESS: at 25.35% examples, 1149585 words/s, in_qsize 7, out_qsize 0\n",
      "2018-02-14 16:07:35,343 : INFO : PROGRESS: at 27.19% examples, 1150397 words/s, in_qsize 7, out_qsize 0\n",
      "2018-02-14 16:07:36,345 : INFO : PROGRESS: at 29.00% examples, 1150756 words/s, in_qsize 7, out_qsize 0\n",
      "2018-02-14 16:07:37,352 : INFO : PROGRESS: at 30.74% examples, 1148201 words/s, in_qsize 7, out_qsize 0\n",
      "2018-02-14 16:07:38,359 : INFO : PROGRESS: at 32.41% examples, 1143575 words/s, in_qsize 7, out_qsize 0\n",
      "2018-02-14 16:07:39,375 : INFO : PROGRESS: at 33.86% examples, 1131423 words/s, in_qsize 7, out_qsize 0\n",
      "2018-02-14 16:07:40,380 : INFO : PROGRESS: at 35.54% examples, 1128162 words/s, in_qsize 7, out_qsize 0\n",
      "2018-02-14 16:07:41,381 : INFO : PROGRESS: at 37.32% examples, 1128192 words/s, in_qsize 7, out_qsize 0\n",
      "2018-02-14 16:07:42,393 : INFO : PROGRESS: at 39.02% examples, 1125702 words/s, in_qsize 7, out_qsize 0\n",
      "2018-02-14 16:07:43,395 : INFO : PROGRESS: at 40.74% examples, 1124526 words/s, in_qsize 7, out_qsize 0\n",
      "2018-02-14 16:07:44,401 : INFO : PROGRESS: at 42.46% examples, 1122685 words/s, in_qsize 7, out_qsize 0\n",
      "2018-02-14 16:07:45,408 : INFO : PROGRESS: at 44.27% examples, 1123266 words/s, in_qsize 7, out_qsize 0\n",
      "2018-02-14 16:07:46,409 : INFO : PROGRESS: at 46.08% examples, 1124264 words/s, in_qsize 7, out_qsize 0\n",
      "2018-02-14 16:07:47,410 : INFO : PROGRESS: at 47.78% examples, 1122554 words/s, in_qsize 7, out_qsize 0\n",
      "2018-02-14 16:07:48,419 : INFO : PROGRESS: at 49.55% examples, 1122446 words/s, in_qsize 7, out_qsize 0\n",
      "2018-02-14 16:07:49,422 : INFO : PROGRESS: at 51.20% examples, 1120151 words/s, in_qsize 7, out_qsize 0\n",
      "2018-02-14 16:07:50,426 : INFO : PROGRESS: at 52.96% examples, 1120302 words/s, in_qsize 7, out_qsize 0\n",
      "2018-02-14 16:07:51,427 : INFO : PROGRESS: at 54.75% examples, 1121045 words/s, in_qsize 7, out_qsize 0\n",
      "2018-02-14 16:07:52,428 : INFO : PROGRESS: at 56.53% examples, 1121493 words/s, in_qsize 7, out_qsize 0\n",
      "2018-02-14 16:07:53,429 : INFO : PROGRESS: at 58.27% examples, 1121254 words/s, in_qsize 7, out_qsize 0\n",
      "2018-02-14 16:07:54,432 : INFO : PROGRESS: at 60.09% examples, 1122259 words/s, in_qsize 7, out_qsize 0\n",
      "2018-02-14 16:07:55,435 : INFO : PROGRESS: at 61.94% examples, 1123608 words/s, in_qsize 7, out_qsize 0\n",
      "2018-02-14 16:07:56,436 : INFO : PROGRESS: at 63.81% examples, 1125159 words/s, in_qsize 7, out_qsize 0\n",
      "2018-02-14 16:07:57,439 : INFO : PROGRESS: at 65.65% examples, 1126318 words/s, in_qsize 7, out_qsize 0\n",
      "2018-02-14 16:07:58,445 : INFO : PROGRESS: at 67.43% examples, 1126227 words/s, in_qsize 7, out_qsize 0\n",
      "2018-02-14 16:07:59,449 : INFO : PROGRESS: at 69.27% examples, 1127314 words/s, in_qsize 7, out_qsize 0\n",
      "2018-02-14 16:08:00,455 : INFO : PROGRESS: at 71.11% examples, 1128460 words/s, in_qsize 7, out_qsize 0\n",
      "2018-02-14 16:08:01,458 : INFO : PROGRESS: at 72.91% examples, 1129107 words/s, in_qsize 7, out_qsize 0\n",
      "2018-02-14 16:08:02,466 : INFO : PROGRESS: at 74.68% examples, 1128922 words/s, in_qsize 7, out_qsize 0\n",
      "2018-02-14 16:08:03,471 : INFO : PROGRESS: at 76.47% examples, 1128966 words/s, in_qsize 7, out_qsize 0\n",
      "2018-02-14 16:08:04,471 : INFO : PROGRESS: at 78.11% examples, 1127199 words/s, in_qsize 7, out_qsize 0\n",
      "2018-02-14 16:08:05,472 : INFO : PROGRESS: at 79.87% examples, 1127113 words/s, in_qsize 7, out_qsize 0\n",
      "2018-02-14 16:08:06,483 : INFO : PROGRESS: at 81.72% examples, 1127960 words/s, in_qsize 7, out_qsize 0\n",
      "2018-02-14 16:08:07,486 : INFO : PROGRESS: at 83.58% examples, 1128858 words/s, in_qsize 7, out_qsize 0\n",
      "2018-02-14 16:08:08,489 : INFO : PROGRESS: at 85.42% examples, 1129534 words/s, in_qsize 7, out_qsize 0\n",
      "2018-02-14 16:08:09,496 : INFO : PROGRESS: at 87.28% examples, 1130373 words/s, in_qsize 7, out_qsize 0\n",
      "2018-02-14 16:08:10,500 : INFO : PROGRESS: at 89.11% examples, 1131112 words/s, in_qsize 7, out_qsize 0\n",
      "2018-02-14 16:08:11,503 : INFO : PROGRESS: at 90.95% examples, 1131997 words/s, in_qsize 7, out_qsize 0\n",
      "2018-02-14 16:08:12,506 : INFO : PROGRESS: at 92.78% examples, 1132698 words/s, in_qsize 7, out_qsize 0\n",
      "2018-02-14 16:08:13,511 : INFO : PROGRESS: at 94.59% examples, 1133093 words/s, in_qsize 7, out_qsize 0\n",
      "2018-02-14 16:08:14,515 : INFO : PROGRESS: at 96.35% examples, 1132807 words/s, in_qsize 7, out_qsize 0\n",
      "2018-02-14 16:08:15,520 : INFO : PROGRESS: at 98.17% examples, 1133311 words/s, in_qsize 7, out_qsize 0\n",
      "2018-02-14 16:08:16,494 : INFO : worker thread finished; awaiting finish of 3 more threads\n",
      "2018-02-14 16:08:16,500 : INFO : worker thread finished; awaiting finish of 2 more threads\n",
      "2018-02-14 16:08:16,505 : INFO : worker thread finished; awaiting finish of 1 more threads\n",
      "2018-02-14 16:08:16,508 : INFO : worker thread finished; awaiting finish of 0 more threads\n",
      "2018-02-14 16:08:16,510 : INFO : training on 88990410 raw words (63747260 effective words) took 56.2s, 1134093 effective words/s\n"
     ]
    }
   ],
   "source": [
    "from gensim.models import word2vec\n",
    "\n",
    "w_model = word2vec.Word2Vec(sentences, workers=num_workers, size=num_features, min_count=min_word_count, window=context, sample=downsampling)\n"
   ]
  },
  {
   "cell_type": "code",
   "execution_count": 41,
   "metadata": {},
   "outputs": [
    {
     "name": "stderr",
     "output_type": "stream",
     "text": [
      "2018-02-14 16:20:29,094 : INFO : precomputing L2-norms of word weight vectors\n"
     ]
    }
   ],
   "source": [
    "# If you don't plan to train the model any further, calling \n",
    "# init_sims will make the model much more memory-efficient.\n",
    "w_model.init_sims(replace=True)"
   ]
  },
  {
   "cell_type": "code",
   "execution_count": 42,
   "metadata": {},
   "outputs": [
    {
     "name": "stderr",
     "output_type": "stream",
     "text": [
      "2018-02-14 16:22:39,083 : INFO : saving Word2Vec object under /Users/troy/code/machine-learning/imdb-example/data/300features_40minwords_10context.model, separately None\n",
      "2018-02-14 16:22:39,086 : INFO : not storing attribute syn0norm\n",
      "2018-02-14 16:22:39,089 : INFO : not storing attribute cum_table\n",
      "2018-02-14 16:22:39,623 : INFO : saved /Users/troy/code/machine-learning/imdb-example/data/300features_40minwords_10context.model\n"
     ]
    }
   ],
   "source": [
    "w_model.save(path + '300features_40minwords_10context.model')"
   ]
  },
  {
   "cell_type": "code",
   "execution_count": 44,
   "metadata": {},
   "outputs": [
    {
     "data": {
      "text/plain": [
       "'kitchen'"
      ]
     },
     "execution_count": 44,
     "metadata": {},
     "output_type": "execute_result"
    }
   ],
   "source": [
    "w_model.doesnt_match('man woman child kitchen'.split())"
   ]
  },
  {
   "cell_type": "code",
   "execution_count": 45,
   "metadata": {},
   "outputs": [
    {
     "data": {
      "text/plain": [
       "'berlin'"
      ]
     },
     "execution_count": 45,
     "metadata": {},
     "output_type": "execute_result"
    }
   ],
   "source": [
    "w_model.doesnt_match('france england germany berlin'.split())"
   ]
  },
  {
   "cell_type": "code",
   "execution_count": 46,
   "metadata": {},
   "outputs": [
    {
     "data": {
      "text/plain": [
       "'paris'"
      ]
     },
     "execution_count": 46,
     "metadata": {},
     "output_type": "execute_result"
    }
   ],
   "source": [
    "w_model.doesnt_match('paris berlin london austria'.split())"
   ]
  },
  {
   "cell_type": "code",
   "execution_count": 47,
   "metadata": {},
   "outputs": [
    {
     "data": {
      "text/plain": [
       "[('woman', 0.621594250202179),\n",
       " ('lad', 0.612229585647583),\n",
       " ('lady', 0.5972335934638977),\n",
       " ('monk', 0.530863344669342),\n",
       " ('men', 0.5270383954048157),\n",
       " ('businessman', 0.525122344493866),\n",
       " ('guy', 0.5202241539955139),\n",
       " ('millionaire', 0.5199412703514099),\n",
       " ('chap', 0.5133419036865234),\n",
       " ('sailor', 0.5126751661300659)]"
      ]
     },
     "execution_count": 47,
     "metadata": {},
     "output_type": "execute_result"
    }
   ],
   "source": [
    "w_model.most_similar('man')"
   ]
  },
  {
   "cell_type": "code",
   "execution_count": 51,
   "metadata": {},
   "outputs": [
    {
     "data": {
      "text/plain": [
       "[('princess', 0.6648591160774231),\n",
       " ('belle', 0.6162021160125732),\n",
       " ('goddess', 0.5977149605751038),\n",
       " ('duchess', 0.5931840538978577),\n",
       " ('stepmother', 0.5750319361686707),\n",
       " ('maid', 0.5708911418914795),\n",
       " ('victoria', 0.5687952637672424),\n",
       " ('mistress', 0.5654619932174683),\n",
       " ('katherine', 0.5603786110877991),\n",
       " ('showgirl', 0.5597378611564636)]"
      ]
     },
     "execution_count": 51,
     "metadata": {},
     "output_type": "execute_result"
    }
   ],
   "source": [
    "w_model.most_similar('queen')"
   ]
  },
  {
   "cell_type": "code",
   "execution_count": 52,
   "metadata": {},
   "outputs": [
    {
     "data": {
      "text/plain": [
       "[('terrible', 0.7568886280059814),\n",
       " ('atrocious', 0.7316727042198181),\n",
       " ('dreadful', 0.7256795763969421),\n",
       " ('horrible', 0.7219803929328918),\n",
       " ('abysmal', 0.697673499584198),\n",
       " ('horrid', 0.6943425536155701),\n",
       " ('horrendous', 0.688029944896698),\n",
       " ('appalling', 0.6591892838478088),\n",
       " ('lousy', 0.6265116930007935),\n",
       " ('amateurish', 0.6120062470436096)]"
      ]
     },
     "execution_count": 52,
     "metadata": {},
     "output_type": "execute_result"
    }
   ],
   "source": [
    "w_model.most_similar('awful')"
   ]
  },
  {
   "cell_type": "code",
   "execution_count": 61,
   "metadata": {},
   "outputs": [
    {
     "name": "stderr",
     "output_type": "stream",
     "text": [
      "2018-02-15 12:20:18,900 : INFO : saving KeyedVectors object under /Users/troy/code/machine-learning/imdb-example/data/word-vectors, separately None\n",
      "2018-02-15 12:20:18,905 : INFO : not storing attribute syn0norm\n",
      "2018-02-15 12:20:19,357 : INFO : saved /Users/troy/code/machine-learning/imdb-example/data/word-vectors\n"
     ]
    }
   ],
   "source": [
    "#w_model.wv.save_word2vec_format(path + '300features_40minwords_10context.w2v_format')\n",
    "word_vectors = w_model.wv\n",
    "word_vectors.save(path + 'word-vectors')"
   ]
  }
 ],
 "metadata": {
  "kernelspec": {
   "display_name": "Python 3",
   "language": "python",
   "name": "python3"
  },
  "language_info": {
   "codemirror_mode": {
    "name": "ipython",
    "version": 3
   },
   "file_extension": ".py",
   "mimetype": "text/x-python",
   "name": "python",
   "nbconvert_exporter": "python",
   "pygments_lexer": "ipython3",
   "version": "3.6.3"
  }
 },
 "nbformat": 4,
 "nbformat_minor": 2
}
